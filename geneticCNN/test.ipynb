{
 "metadata": {
  "language_info": {
   "codemirror_mode": {
    "name": "ipython",
    "version": 3
   },
   "file_extension": ".py",
   "mimetype": "text/x-python",
   "name": "python",
   "nbconvert_exporter": "python",
   "pygments_lexer": "ipython3",
   "version": "3.8.5"
  },
  "orig_nbformat": 4,
  "kernelspec": {
   "name": "python3",
   "display_name": "Python 3.8.5 64-bit"
  },
  "interpreter": {
   "hash": "fbe73729ce93a3700bf81dffff7c8f5a6bd5e733a33f71516d5cf43652445aba"
  }
 },
 "nbformat": 4,
 "nbformat_minor": 2,
 "cells": [
  {
   "cell_type": "markdown",
   "source": [
    "# import"
   ],
   "metadata": {}
  },
  {
   "cell_type": "code",
   "execution_count": null,
   "source": [
    "!git clone https://github.com/H999/GeneticCNN-torch.git\r\n",
    "%cd GeneticCNN-torch/\r\n",
    "!git checkout H999/Population\r\n",
    "%cd geneticCNN/"
   ],
   "outputs": [],
   "metadata": {}
  },
  {
   "cell_type": "code",
   "execution_count": null,
   "source": [
    "import torch\r\n",
    "import random\r\n",
    "import numpy as np\r\n",
    "import torchvision\r\n",
    "import torch.nn as nn\r\n",
    "import torch.nn.functional as F\r\n",
    "from tqdm.auto import tqdm\r\n",
    "from torchvision import datasets, transforms\r\n",
    "from torch.utils.tensorboard import SummaryWriter\r\n",
    "\r\n",
    "device = torch.device(\"cuda:0\" if torch.cuda.is_available() else \"cpu\")\r\n",
    "batch_size = 64\r\n",
    "\r\n",
    "transform = transforms.Compose([transforms.ToTensor(), transforms.Normalize((0.5,), (0.5,))])\r\n",
    "trainset = datasets.MNIST('data', train=True, download=True, transform=transform)\r\n",
    "testset = datasets.MNIST('data', train=False, download=True, transform=transform)\r\n",
    "\r\n",
    "train_loader = torch.utils.data.DataLoader(trainset, batch_size=batch_size, shuffle=True)\r\n",
    "test_loader = torch.utils.data.DataLoader(testset, batch_size=batch_size, shuffle=True)\r\n",
    "\r\n",
    "\r\n",
    "def length(x): return len(x) * x.batch_size\r\n",
    "\r\n",
    "\r\n",
    "print(\"Total train examples: \", length(train_loader))\r\n",
    "print(\"Total test examples: \", length(test_loader))\r\n"
   ],
   "outputs": [],
   "metadata": {}
  },
  {
   "cell_type": "code",
   "execution_count": null,
   "source": [
    "def set_seed(seed):\r\n",
    "    # Set random seed for reproducibility\r\n",
    "    random.seed(seed)\r\n",
    "    np.random.seed(seed)\r\n",
    "    torch.manual_seed(seed)\r\n",
    "\r\n",
    "    if torch.cuda.is_available():\r\n",
    "        torch.cuda.manual_seed(seed)\r\n",
    "        torch.cuda.manual_seed_all(seed)\r\n",
    "        torch.backends.cudnn.deterministic = True\r\n",
    "        torch.backends.cudnn.benchmark = True\r\n",
    "\r\n",
    "\r\n",
    "seed = 1234\r\n",
    "set_seed(seed)\r\n"
   ],
   "outputs": [],
   "metadata": {}
  },
  {
   "cell_type": "markdown",
   "source": [
    "# class Stage"
   ],
   "metadata": {}
  },
  {
   "cell_type": "code",
   "execution_count": null,
   "source": [
    "from Stage import Stage"
   ],
   "outputs": [],
   "metadata": {}
  },
  {
   "cell_type": "markdown",
   "source": [
    "# class Stages"
   ],
   "metadata": {}
  },
  {
   "cell_type": "code",
   "execution_count": null,
   "source": [
    "from Stages import Stages"
   ],
   "outputs": [],
   "metadata": {}
  },
  {
   "cell_type": "markdown",
   "source": [
    "# class Individual"
   ],
   "metadata": {}
  },
  {
   "cell_type": "code",
   "execution_count": null,
   "source": [
    "from Individual import Individual"
   ],
   "outputs": [],
   "metadata": {}
  },
  {
   "cell_type": "markdown",
   "source": [
    "# class Population"
   ],
   "metadata": {}
  },
  {
   "cell_type": "code",
   "execution_count": null,
   "source": [
    "from Population import Population"
   ],
   "outputs": [],
   "metadata": {}
  },
  {
   "cell_type": "markdown",
   "source": [
    "# Train & test model for Individual"
   ],
   "metadata": {}
  },
  {
   "cell_type": "code",
   "execution_count": null,
   "source": [
    "def train(model, device, train_loader, optimizer, epoch):\r\n",
    "    model.to(device)\r\n",
    "    model.train()\r\n",
    "    pbar = tqdm(train_loader, leave=False, desc=\"Train Epoch {}\".format(epoch))\r\n",
    "    for data, target in pbar:\r\n",
    "        data, target = data.to(device), target.to(device)\r\n",
    "        model.zero_grad()\r\n",
    "        optimizer.zero_grad()\r\n",
    "        output = model(data)\r\n",
    "        loss = F.nll_loss(output, target)\r\n",
    "        loss.backward()\r\n",
    "        optimizer.step()\r\n",
    "        pbar.set_postfix({'loss': '{:.6f}'.format(loss.item())})\r\n",
    "\r\n",
    "\r\n",
    "def test(model, device, test_loader, epoch):\r\n",
    "    model.eval()\r\n",
    "    test_loss = 0\r\n",
    "    correct = 0\r\n",
    "    with torch.no_grad():\r\n",
    "        for data, target in test_loader:\r\n",
    "            data, target = data.to(device), target.to(device)\r\n",
    "            output = model(data)\r\n",
    "            test_loss += F.nll_loss(output, target, reduction='sum').item()  # sum up batch loss\r\n",
    "            pred = output.argmax(dim=1, keepdim=True)  # get the index of the max log-probability\r\n",
    "            correct += pred.eq(target.view_as(pred)).sum().item()\r\n",
    "\r\n",
    "    test_loss /= len(test_loader.dataset)\r\n",
    "\r\n",
    "    print('\\nTest set {}: Average loss: {:.4f}, Accuracy: {}/{} ({:.0f}%)\\n'.format(\r\n",
    "        epoch, test_loss, correct, len(test_loader.dataset),\r\n",
    "        100. * correct / len(test_loader.dataset)))\r\n"
   ],
   "outputs": [],
   "metadata": {}
  },
  {
   "cell_type": "code",
   "execution_count": null,
   "source": [
    "a = Individual(2)\r\n",
    "optimizer = torch.optim.SGD(a.parameters(), lr=0.01, momentum=0.9)\r\n",
    "scheduler = torch.optim.lr_scheduler.ExponentialLR(optimizer, gamma=0.95)\r\n",
    "EPOCHS = 5\r\n"
   ],
   "outputs": [],
   "metadata": {}
  },
  {
   "cell_type": "code",
   "execution_count": null,
   "source": [
    "for epoch in tqdm(range(EPOCHS)):\r\n",
    "    train(a, device, train_loader, optimizer, epoch)\r\n",
    "    test(a, device, test_loader, epoch)\r\n",
    "    scheduler.step()\r\n"
   ],
   "outputs": [],
   "metadata": {}
  },
  {
   "cell_type": "markdown",
   "source": [
    "# test"
   ],
   "metadata": {}
  },
  {
   "cell_type": "code",
   "execution_count": null,
   "source": [
    "# a=Stage(5,'1234567890')\r\n",
    "# a=Stage(5,'1101100101')\r\n",
    "# a=Stage(5,'1010000000')\r\n",
    "# a=Stage(5,'1100000001')\r\n",
    "# a=Stage(5,'0010001111')\r\n",
    "# a=Stage(5,'0010001110')\r\n",
    "# a=Stage(5)\r\n",
    "# a=Stage(3)\r\n",
    "# a=Stages(5)\r\n",
    "# a=Stages(3)\r\n",
    "# a=Individual(2)\r\n",
    "a = Population(train_loader, test_loader,\r\n",
    "               torch.optim.SGD, {'lr': 0.01, 'momentum': 0.9}, F.nll_loss,\r\n",
    "               torch.optim.lr_scheduler.ExponentialLR, {'gamma': 0.95})\r\n",
    "a.run()"
   ],
   "outputs": [],
   "metadata": {}
  },
  {
   "cell_type": "code",
   "execution_count": null,
   "source": [
    "a = Population(train_loader, test_loader,\r\n",
    "               torch.optim.Adam, {}, F.cross_entropy,\r\n",
    "               torch.optim.lr_scheduler.ExponentialLR, {'gamma': 0.95})\r\n",
    "a.run()"
   ],
   "outputs": [],
   "metadata": {}
  },
  {
   "cell_type": "markdown",
   "source": [
    "# test on tensorboard"
   ],
   "metadata": {}
  },
  {
   "cell_type": "code",
   "execution_count": null,
   "source": [
    "writer = SummaryWriter()\r\n",
    "# writer.add_graph(a,images)"
   ],
   "outputs": [],
   "metadata": {
    "tags": []
   }
  },
  {
   "cell_type": "code",
   "execution_count": null,
   "source": [
    "# writer.close()"
   ],
   "outputs": [],
   "metadata": {}
  },
  {
   "cell_type": "code",
   "execution_count": null,
   "source": [
    "# import time\r\n",
    "# for i in range(1024):\r\n",
    "#     print(\"{0:010b}\".format(i))\r\n",
    "#     try:\r\n",
    "#         time.sleep(5)\r\n",
    "#         writer = SummaryWriter()\r\n",
    "#         writer.add_graph(Stage(5,\"{0:010b}\".format(i)),images)\r\n",
    "#         writer.close()\r\n",
    "#     except Exception as e:\r\n",
    "#         print(e)"
   ],
   "outputs": [],
   "metadata": {}
  },
  {
   "cell_type": "code",
   "execution_count": null,
   "source": [
    "!kill "
   ],
   "outputs": [],
   "metadata": {
    "tags": [
     "outputPrepend"
    ]
   }
  },
  {
   "cell_type": "code",
   "execution_count": null,
   "source": [
    "%reload_ext tensorboard\r\n",
    "%tensorboard --logdir runs"
   ],
   "outputs": [],
   "metadata": {}
  }
 ]
}